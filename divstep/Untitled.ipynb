{
 "cells": [
  {
   "cell_type": "code",
   "execution_count": null,
   "id": "62fa531b-e34b-44a4-890b-e708149d6264",
   "metadata": {
    "vscode": {
     "languageId": "python"
    }
   },
   "outputs": [
    {
     "name": "stdout",
     "output_type": "stream",
     "text": [
      "The inverse of f(x) = x^3 + x^2 + 1 modulo x^4 + 1 in GF(2) is:\n",
      "x^2 + x + 1\n",
      "\n",
      "Verification: (f * f_inverse) % modulus = 1\n"
     ]
    },
    {
     "data": {
      "text/plain": [
       "x^5 + x^4 + 1"
      ]
     },
     "execution_count": 19,
     "metadata": {},
     "output_type": "execute_result"
    }
   ],
   "source": [
    "# Define the finite field GF(2)\n",
    "F = GF(2)\n",
    "\n",
    "# Define the polynomial ring over GF(2)\n",
    "R.<x> = PolynomialRing(F)\n",
    "\n",
    "# Define the modulus polynomial\n",
    "modulus = x^8 + 1\n",
    "\n",
    "# Define f(x)\n",
    "f = x^7+x^3+1\n",
    "# Calculate the inverse of f modulo x^64 + 1\n",
    "f_inverse = f.inverse_mod(modulus)\n",
    "\n",
    "print(f\"The inverse of f(x) = {f} modulo {modulus} in GF(2) is:\")\n",
    "print(f_inverse)\n",
    "\n",
    "# Verify the result\n",
    "verification = (f * f_inverse) % modulus\n",
    "print(f\"\\nVerification: (f * f_inverse) % modulus = {verification}\")\n",
    "\n"
   ]
  },
  {
   "cell_type": "code",
   "execution_count": 9,
   "id": "94ba9c2a-c73e-4f12-9f2e-f32b13d7ef9f",
   "metadata": {
    "vscode": {
     "languageId": "python"
    }
   },
   "outputs": [
    {
     "name": "stdout",
     "output_type": "stream",
     "text": [
      "0x4a5294a5294a5294\n"
     ]
    }
   ],
   "source": [
    "# Define the binary number\n",
    "binary_number = 0b0100101001010010100101001010010100101001010010100101001010010100\n",
    "\n",
    "print(hex(binary_number))"
   ]
  },
  {
   "cell_type": "code",
   "execution_count": 11,
   "id": "d1240e0e-0a6c-48aa-802b-512747e95d7f",
   "metadata": {
    "vscode": {
     "languageId": "python"
    }
   },
   "outputs": [
    {
     "data": {
      "text/plain": [
       "0"
      ]
     },
     "execution_count": 11,
     "metadata": {},
     "output_type": "execute_result"
    }
   ],
   "source": []
  },
  {
   "cell_type": "code",
   "execution_count": null,
   "id": "eeba8e21-a2d8-4916-a0cc-6a9416b975cb",
   "metadata": {
    "vscode": {
     "languageId": "python"
    }
   },
   "outputs": [],
   "source": []
  },
  {
   "cell_type": "code",
   "execution_count": null,
   "id": "c69ecf84-3a35-4fc0-a438-fbc53baec505",
   "metadata": {
    "vscode": {
     "languageId": "python"
    }
   },
   "outputs": [],
   "source": []
  },
  {
   "cell_type": "code",
   "execution_count": null,
   "id": "eec46920",
   "metadata": {
    "vscode": {
     "languageId": "python"
    }
   },
   "outputs": [],
   "source": []
  },
  {
   "cell_type": "code",
   "execution_count": null,
   "id": "b6e1abdd",
   "metadata": {
    "vscode": {
     "languageId": "python"
    }
   },
   "outputs": [],
   "source": []
  }
 ],
 "metadata": {
  "kernelspec": {
   "display_name": "SageMath 10.3",
   "language": "sage",
   "name": "sagemath"
  },
  "language_info": {
   "codemirror_mode": {
    "name": "ipython",
    "version": 3
   },
   "file_extension": ".py",
   "mimetype": "text/x-python",
   "name": "sage",
   "nbconvert_exporter": "python",
   "pygments_lexer": "ipython3",
   "version": "3.10.14"
  }
 },
 "nbformat": 4,
 "nbformat_minor": 5
}
